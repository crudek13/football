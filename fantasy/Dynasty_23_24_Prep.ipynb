{
 "cells": [
  {
   "cell_type": "markdown",
   "metadata": {},
   "source": [
    "Do all of this with Beautiful Soup?"
   ]
  },
  {
   "cell_type": "code",
   "execution_count": 2,
   "metadata": {},
   "outputs": [],
   "source": [
    "import pandas as pd\n",
    "import numpy as np"
   ]
  },
  {
   "cell_type": "markdown",
   "metadata": {},
   "source": [
    "# Fantasy Footballers UDK Rankings\n",
    "\n",
    "https://www.thefantasyfootballers.com/2023-ultimate-draft-kit/udk-dynasty-startup-rankings/"
   ]
  },
  {
   "cell_type": "code",
   "execution_count": 6,
   "metadata": {},
   "outputs": [],
   "source": [
    "all = pd.read_csv('Dynasty_Ranking_23_24_All.csv')\n",
    "qb = pd.read_csv('Dynasty_Ranking_23_24_QB.csv')\n",
    "rb = pd.read_csv('Dynasty_Ranking_23_24_RB.csv')\n",
    "wr = pd.read_csv('Dynasty_Ranking_23_24_WR.csv')\n",
    "te = pd.read_csv('Dynasty_Ranking_23_24_TE.csv') \n",
    "rook = pd.read_csv('Dynasty_Ranking_23_24_Rookie.csv') "
   ]
  },
  {
   "cell_type": "code",
   "execution_count": 7,
   "metadata": {},
   "outputs": [],
   "source": [
    "# DATA PREP\n",
    "\n",
    "# select columns wanted\n",
    "all = all[[\"Rank\", \"Name\", \"Team\", \"Age\"]]\n",
    "\n",
    "# QB\n",
    "qb = qb[[\"Rank\", \"Name\"]]\n",
    "qb = qb.assign(Pos = 'QB')\n",
    "qb['Rank'] = qb['Rank'].astype(str)\n",
    "qb['Pos_Rnk'] = qb['Pos'] + \"-\" + qb['Rank']\n",
    "\n",
    "# RB\n",
    "rb = rb[[\"Rank\", \"Name\"]]\n",
    "rb = rb.assign(Pos = 'RB')\n",
    "rb['Rank'] = rb['Rank'].astype(str)\n",
    "rb['Pos_Rnk'] = rb['Pos'] + \"-\" + rb['Rank']\n",
    "\n",
    "# WR\n",
    "wr = wr[[\"Rank\", \"Name\"]]\n",
    "wr = wr.assign(Pos = 'WR')\n",
    "wr['Rank'] = wr['Rank'].astype(str)\n",
    "wr['Pos_Rnk'] = wr['Pos'] + \"-\" + wr['Rank']\n",
    "\n",
    "# TE\n",
    "te = te[[\"Rank\", \"Name\"]]\n",
    "te = te.assign(Pos = 'TE')\n",
    "te['Rank'] = te['Rank'].astype(str)\n",
    "te['Pos_Rnk'] = te['Pos'] + \"-\" + te['Rank']\n",
    "\n",
    "# Rookie\n",
    "rook = rook[[\"Rank\", \"Name\"]]\n",
    "rook = rook.rename(columns = {'Rank': 'Rook_Rnk'})\n",
    "rook['Rook_Rnk'] = rook['Rook_Rnk'].astype(str)\n",
    "\n",
    "# Join data\n",
    "comb = pd.concat([qb, rb, wr, te])\n",
    "comb2 = pd.merge(comb, rook, on = 'Name', how = 'left')\n",
    "all_fnl = pd.merge(all, comb2, on = 'Name', how = 'left')\n",
    "\n",
    "# Select cols and final clean\n",
    "all_fnl = all_fnl[[\"Rank_x\", \"Name\", \"Team\", \"Age\", \"Pos\", \"Pos_Rnk\", \"Rook_Rnk\"]]\n",
    "all_fnl = all_fnl.rename(columns = {'Rank_x': 'Rank'})\n",
    "all_fnl = all_fnl.replace(np.nan, '', regex=True)"
   ]
  },
  {
   "cell_type": "code",
   "execution_count": 135,
   "metadata": {},
   "outputs": [],
   "source": [
    "# Write csv\n",
    "all_fnl.to_csv('Dynasty_FF_Rankings_23_24_Clean.csv', index = False)"
   ]
  },
  {
   "cell_type": "markdown",
   "metadata": {},
   "source": [
    "# Sleeper ADP\n",
    "\n",
    "https://www.ftnfantasy.com/nfl/tools/sleeper-fantasy-football-adp"
   ]
  },
  {
   "cell_type": "code",
   "execution_count": 4,
   "metadata": {},
   "outputs": [],
   "source": [
    "# Read in adp data\n",
    "adp = pd.read_csv('sleeper_adp_23_24 8.15.csv') "
   ]
  },
  {
   "cell_type": "code",
   "execution_count": 8,
   "metadata": {},
   "outputs": [
    {
     "ename": "KeyError",
     "evalue": "\"['Redraft SF ADP', 'Dynasty SF ADP', 'IDP ADP'] not found in axis\"",
     "output_type": "error",
     "traceback": [
      "\u001b[1;31m---------------------------------------------------------------------------\u001b[0m",
      "\u001b[1;31mKeyError\u001b[0m                                  Traceback (most recent call last)",
      "Cell \u001b[1;32mIn[8], line 2\u001b[0m\n\u001b[0;32m      1\u001b[0m \u001b[39m# remove cols\u001b[39;00m\n\u001b[1;32m----> 2\u001b[0m adp \u001b[39m=\u001b[39m adp\u001b[39m.\u001b[39mdrop(columns \u001b[39m=\u001b[39m [\u001b[39m'\u001b[39m\u001b[39mRedraft SF ADP\u001b[39m\u001b[39m'\u001b[39m, \u001b[39m'\u001b[39m\u001b[39mDynasty SF ADP\u001b[39m\u001b[39m'\u001b[39m, \u001b[39m'\u001b[39m\u001b[39mIDP ADP\u001b[39m\u001b[39m'\u001b[39m])\n\u001b[0;32m      4\u001b[0m \u001b[39m# Dynasty PPR\u001b[39;00m\n\u001b[0;32m      5\u001b[0m adp_dyn_ppr \u001b[39m=\u001b[39m adp[[\u001b[39m\"\u001b[39m\u001b[39mPlayer\u001b[39m\u001b[39m\"\u001b[39m, \u001b[39m\"\u001b[39m\u001b[39mTeam\u001b[39m\u001b[39m\"\u001b[39m, \u001b[39m\"\u001b[39m\u001b[39mPosition\u001b[39m\u001b[39m\"\u001b[39m, \u001b[39m\"\u001b[39m\u001b[39mDynasty PPR ADP\u001b[39m\u001b[39m\"\u001b[39m]]\u001b[39m.\u001b[39msort_values(\u001b[39m\"\u001b[39m\u001b[39mDynasty PPR ADP\u001b[39m\u001b[39m\"\u001b[39m)\n",
      "File \u001b[1;32mc:\\Users\\crudek\\AppData\\Local\\anaconda3\\Lib\\site-packages\\pandas\\util\\_decorators.py:331\u001b[0m, in \u001b[0;36mdeprecate_nonkeyword_arguments.<locals>.decorate.<locals>.wrapper\u001b[1;34m(*args, **kwargs)\u001b[0m\n\u001b[0;32m    325\u001b[0m \u001b[39mif\u001b[39;00m \u001b[39mlen\u001b[39m(args) \u001b[39m>\u001b[39m num_allow_args:\n\u001b[0;32m    326\u001b[0m     warnings\u001b[39m.\u001b[39mwarn(\n\u001b[0;32m    327\u001b[0m         msg\u001b[39m.\u001b[39mformat(arguments\u001b[39m=\u001b[39m_format_argument_list(allow_args)),\n\u001b[0;32m    328\u001b[0m         \u001b[39mFutureWarning\u001b[39;00m,\n\u001b[0;32m    329\u001b[0m         stacklevel\u001b[39m=\u001b[39mfind_stack_level(),\n\u001b[0;32m    330\u001b[0m     )\n\u001b[1;32m--> 331\u001b[0m \u001b[39mreturn\u001b[39;00m func(\u001b[39m*\u001b[39margs, \u001b[39m*\u001b[39m\u001b[39m*\u001b[39mkwargs)\n",
      "File \u001b[1;32mc:\\Users\\crudek\\AppData\\Local\\anaconda3\\Lib\\site-packages\\pandas\\core\\frame.py:5399\u001b[0m, in \u001b[0;36mDataFrame.drop\u001b[1;34m(self, labels, axis, index, columns, level, inplace, errors)\u001b[0m\n\u001b[0;32m   5251\u001b[0m \u001b[39m@deprecate_nonkeyword_arguments\u001b[39m(version\u001b[39m=\u001b[39m\u001b[39mNone\u001b[39;00m, allowed_args\u001b[39m=\u001b[39m[\u001b[39m\"\u001b[39m\u001b[39mself\u001b[39m\u001b[39m\"\u001b[39m, \u001b[39m\"\u001b[39m\u001b[39mlabels\u001b[39m\u001b[39m\"\u001b[39m])\n\u001b[0;32m   5252\u001b[0m \u001b[39mdef\u001b[39;00m \u001b[39mdrop\u001b[39m(  \u001b[39m# type: ignore[override]\u001b[39;00m\n\u001b[0;32m   5253\u001b[0m     \u001b[39mself\u001b[39m,\n\u001b[1;32m   (...)\u001b[0m\n\u001b[0;32m   5260\u001b[0m     errors: IgnoreRaise \u001b[39m=\u001b[39m \u001b[39m\"\u001b[39m\u001b[39mraise\u001b[39m\u001b[39m\"\u001b[39m,\n\u001b[0;32m   5261\u001b[0m ) \u001b[39m-\u001b[39m\u001b[39m>\u001b[39m DataFrame \u001b[39m|\u001b[39m \u001b[39mNone\u001b[39;00m:\n\u001b[0;32m   5262\u001b[0m \u001b[39m    \u001b[39m\u001b[39m\"\"\"\u001b[39;00m\n\u001b[0;32m   5263\u001b[0m \u001b[39m    Drop specified labels from rows or columns.\u001b[39;00m\n\u001b[0;32m   5264\u001b[0m \n\u001b[1;32m   (...)\u001b[0m\n\u001b[0;32m   5397\u001b[0m \u001b[39m            weight  1.0     0.8\u001b[39;00m\n\u001b[0;32m   5398\u001b[0m \u001b[39m    \"\"\"\u001b[39;00m\n\u001b[1;32m-> 5399\u001b[0m     \u001b[39mreturn\u001b[39;00m \u001b[39msuper\u001b[39m()\u001b[39m.\u001b[39mdrop(\n\u001b[0;32m   5400\u001b[0m         labels\u001b[39m=\u001b[39mlabels,\n\u001b[0;32m   5401\u001b[0m         axis\u001b[39m=\u001b[39maxis,\n\u001b[0;32m   5402\u001b[0m         index\u001b[39m=\u001b[39mindex,\n\u001b[0;32m   5403\u001b[0m         columns\u001b[39m=\u001b[39mcolumns,\n\u001b[0;32m   5404\u001b[0m         level\u001b[39m=\u001b[39mlevel,\n\u001b[0;32m   5405\u001b[0m         inplace\u001b[39m=\u001b[39minplace,\n\u001b[0;32m   5406\u001b[0m         errors\u001b[39m=\u001b[39merrors,\n\u001b[0;32m   5407\u001b[0m     )\n",
      "File \u001b[1;32mc:\\Users\\crudek\\AppData\\Local\\anaconda3\\Lib\\site-packages\\pandas\\util\\_decorators.py:331\u001b[0m, in \u001b[0;36mdeprecate_nonkeyword_arguments.<locals>.decorate.<locals>.wrapper\u001b[1;34m(*args, **kwargs)\u001b[0m\n\u001b[0;32m    325\u001b[0m \u001b[39mif\u001b[39;00m \u001b[39mlen\u001b[39m(args) \u001b[39m>\u001b[39m num_allow_args:\n\u001b[0;32m    326\u001b[0m     warnings\u001b[39m.\u001b[39mwarn(\n\u001b[0;32m    327\u001b[0m         msg\u001b[39m.\u001b[39mformat(arguments\u001b[39m=\u001b[39m_format_argument_list(allow_args)),\n\u001b[0;32m    328\u001b[0m         \u001b[39mFutureWarning\u001b[39;00m,\n\u001b[0;32m    329\u001b[0m         stacklevel\u001b[39m=\u001b[39mfind_stack_level(),\n\u001b[0;32m    330\u001b[0m     )\n\u001b[1;32m--> 331\u001b[0m \u001b[39mreturn\u001b[39;00m func(\u001b[39m*\u001b[39margs, \u001b[39m*\u001b[39m\u001b[39m*\u001b[39mkwargs)\n",
      "File \u001b[1;32mc:\\Users\\crudek\\AppData\\Local\\anaconda3\\Lib\\site-packages\\pandas\\core\\generic.py:4505\u001b[0m, in \u001b[0;36mNDFrame.drop\u001b[1;34m(self, labels, axis, index, columns, level, inplace, errors)\u001b[0m\n\u001b[0;32m   4503\u001b[0m \u001b[39mfor\u001b[39;00m axis, labels \u001b[39min\u001b[39;00m axes\u001b[39m.\u001b[39mitems():\n\u001b[0;32m   4504\u001b[0m     \u001b[39mif\u001b[39;00m labels \u001b[39mis\u001b[39;00m \u001b[39mnot\u001b[39;00m \u001b[39mNone\u001b[39;00m:\n\u001b[1;32m-> 4505\u001b[0m         obj \u001b[39m=\u001b[39m obj\u001b[39m.\u001b[39m_drop_axis(labels, axis, level\u001b[39m=\u001b[39mlevel, errors\u001b[39m=\u001b[39merrors)\n\u001b[0;32m   4507\u001b[0m \u001b[39mif\u001b[39;00m inplace:\n\u001b[0;32m   4508\u001b[0m     \u001b[39mself\u001b[39m\u001b[39m.\u001b[39m_update_inplace(obj)\n",
      "File \u001b[1;32mc:\\Users\\crudek\\AppData\\Local\\anaconda3\\Lib\\site-packages\\pandas\\core\\generic.py:4546\u001b[0m, in \u001b[0;36mNDFrame._drop_axis\u001b[1;34m(self, labels, axis, level, errors, only_slice)\u001b[0m\n\u001b[0;32m   4544\u001b[0m         new_axis \u001b[39m=\u001b[39m axis\u001b[39m.\u001b[39mdrop(labels, level\u001b[39m=\u001b[39mlevel, errors\u001b[39m=\u001b[39merrors)\n\u001b[0;32m   4545\u001b[0m     \u001b[39melse\u001b[39;00m:\n\u001b[1;32m-> 4546\u001b[0m         new_axis \u001b[39m=\u001b[39m axis\u001b[39m.\u001b[39mdrop(labels, errors\u001b[39m=\u001b[39merrors)\n\u001b[0;32m   4547\u001b[0m     indexer \u001b[39m=\u001b[39m axis\u001b[39m.\u001b[39mget_indexer(new_axis)\n\u001b[0;32m   4549\u001b[0m \u001b[39m# Case for non-unique axis\u001b[39;00m\n\u001b[0;32m   4550\u001b[0m \u001b[39melse\u001b[39;00m:\n",
      "File \u001b[1;32mc:\\Users\\crudek\\AppData\\Local\\anaconda3\\Lib\\site-packages\\pandas\\core\\indexes\\base.py:6934\u001b[0m, in \u001b[0;36mIndex.drop\u001b[1;34m(self, labels, errors)\u001b[0m\n\u001b[0;32m   6932\u001b[0m \u001b[39mif\u001b[39;00m mask\u001b[39m.\u001b[39many():\n\u001b[0;32m   6933\u001b[0m     \u001b[39mif\u001b[39;00m errors \u001b[39m!=\u001b[39m \u001b[39m\"\u001b[39m\u001b[39mignore\u001b[39m\u001b[39m\"\u001b[39m:\n\u001b[1;32m-> 6934\u001b[0m         \u001b[39mraise\u001b[39;00m \u001b[39mKeyError\u001b[39;00m(\u001b[39mf\u001b[39m\u001b[39m\"\u001b[39m\u001b[39m{\u001b[39;00m\u001b[39mlist\u001b[39m(labels[mask])\u001b[39m}\u001b[39;00m\u001b[39m not found in axis\u001b[39m\u001b[39m\"\u001b[39m)\n\u001b[0;32m   6935\u001b[0m     indexer \u001b[39m=\u001b[39m indexer[\u001b[39m~\u001b[39mmask]\n\u001b[0;32m   6936\u001b[0m \u001b[39mreturn\u001b[39;00m \u001b[39mself\u001b[39m\u001b[39m.\u001b[39mdelete(indexer)\n",
      "\u001b[1;31mKeyError\u001b[0m: \"['Redraft SF ADP', 'Dynasty SF ADP', 'IDP ADP'] not found in axis\""
     ]
    }
   ],
   "source": [
    "# remove cols\n",
    "adp = adp.drop(columns = ['Redraft SF ADP', 'Dynasty SF ADP', 'IDP ADP'])\n",
    "\n",
    "# Dynasty PPR\n",
    "adp_dyn_ppr = adp[[\"Player\", \"Team\", \"Position\", \"Dynasty PPR ADP\"]].sort_values(\"Dynasty PPR ADP\")\n",
    "\n",
    "# remove nan\n",
    "adp_dyn_ppr = adp_dyn_ppr[adp_dyn_ppr['Dynasty PPR ADP'].notna()]\n",
    "\n",
    "# create dynasty ppr rank\n",
    "adp_dyn_ppr['ADP_Rnk'] = adp_dyn_ppr['Dynasty PPR ADP'].rank(ascending=True).astype(np.int64)\n",
    "\n",
    "# create position rankings\n",
    "adp_dyn_ppr['Pos_Rnk'] = adp_dyn_ppr.groupby('Position')['Dynasty PPR ADP'].rank(ascending=True).astype(np.int64)\n",
    "\n",
    "adp_dyn_ppr['ADP_Pos_Rnk']  = adp_dyn_ppr['Position'] + \"-\" + adp_dyn_ppr['Pos_Rnk'].astype(str)\n",
    "\n",
    "# select columns and final cleaning\n",
    "adp_dyn_ppr = adp_dyn_ppr.rename(columns = {'ADP_Rnk': 'ADP_Rank', 'Player': 'Name', 'Position': 'Pos'})\n",
    "\n",
    "adp_dyn_ppr = adp_dyn_ppr[[\"ADP_Rank\", \"Name\", \"Team\", \"Pos\", \"ADP_Pos_Rnk\"]]\n",
    "\n",
    "# get age and rookie info\n",
    "age_rook = all_fnl[[\"Name\", \"Age\", \"Rook_Rnk\"]]\n",
    "\n",
    "# prep\n",
    "age_rook.loc[age_rook['Rook_Rnk'] != '', 'Rook'] = 'True' \n",
    "age_rook = age_rook.replace(np.nan, '', regex=True)\n",
    "age_rook = age_rook[[\"Name\", \"Age\", \"Rook\"]]"
   ]
  },
  {
   "cell_type": "code",
   "execution_count": 133,
   "metadata": {},
   "outputs": [],
   "source": [
    "# join age and rookie info\n",
    "adp_comb = pd.merge(adp_dyn_ppr, age_rook, on = 'Name', how = 'left')\n",
    "adp_comb = adp_comb.replace(np.nan, '', regex=True)\n",
    "adp_comb['Rook_Rnk'] = adp_comb.groupby('Rook')['ADP_Rank'].rank(ascending=True)\n",
    "\n",
    "# get rookie rank to be able to join back\n",
    "just_rook = adp_comb[(adp_comb.Rook == \"True\")]\n",
    "just_rook = just_rook[[\"Name\", \"Rook_Rnk\"]]\n",
    "\n",
    "# remove a coup[le cols before joining back]\n",
    "adp_comb = adp_comb.drop(columns = ['Rook_Rnk', 'Rook'])\n",
    "\n",
    "# join back rookie\n",
    "adp_rook_comb = pd.merge(adp_comb, just_rook, on = 'Name', how = 'left')\n",
    "adp_rook_comb = adp_rook_comb.replace(np.nan, '', regex=True)\n",
    "\n",
    "# move age column\n",
    "move_age = adp_rook_comb.pop(\"Age\")\n",
    "# insert column with insert(location, column_name, column_value)\n",
    "adp_rook_comb.insert(3, \"Age\", move_age)"
   ]
  },
  {
   "cell_type": "code",
   "execution_count": 136,
   "metadata": {},
   "outputs": [],
   "source": [
    "# Write csv\n",
    "adp_rook_comb.to_csv('Sleeper_PPR_Dyn_ADP_23_24_Clean.csv', index = False)"
   ]
  },
  {
   "cell_type": "markdown",
   "metadata": {},
   "source": []
  },
  {
   "cell_type": "markdown",
   "metadata": {},
   "source": [
    "# ESPN API / Scrape\n",
    "\n",
    "Test to get historical league resultsd and try to determine keepers\n",
    "\n",
    "leagueId = 1057699\n",
    "seasonId = 2023 (whatever year you are looking for)\n",
    "\n",
    "\n",
    "\n",
    "# 2022 example\n",
    "Rosters = https://fantasy.espn.com/football/league/rosters?leagueId=1057699&seasonId=2022\n",
    "\n",
    "Draft = https://fantasy.espn.com/football/league/draftrecap?seasonId=2022&leagueId=1057699"
   ]
  },
  {
   "cell_type": "markdown",
   "metadata": {},
   "source": []
  },
  {
   "cell_type": "markdown",
   "metadata": {},
   "source": [
    "# League of Goo\n",
    "\n",
    "Redraft with Staley"
   ]
  },
  {
   "cell_type": "code",
   "execution_count": 9,
   "metadata": {},
   "outputs": [],
   "source": [
    "# Dynasty PPR\n",
    "adp_redraft = adp[[\"Player\", \"Team\", \"Position\", \"Redraft Half PPR ADP\"]].sort_values(\"Redraft Half PPR ADP\")\n",
    "\n",
    "# remove nan\n",
    "adp_redraft = adp_redraft[adp_redraft['Redraft Half PPR ADP'].notna()]\n",
    "\n",
    "# create dynasty ppr rank\n",
    "adp_redraft['ADP_Rnk'] = adp_redraft['Redraft Half PPR ADP'].rank(ascending=True).astype(np.int64)\n",
    "\n",
    "# create position rankings\n",
    "adp_redraft['Pos_Rnk'] = adp_redraft.groupby('Position')['Redraft Half PPR ADP'].rank(ascending=True).astype(np.int64)\n",
    "\n",
    "adp_redraft['ADP_Pos_Rnk']  = adp_redraft['Position'] + \"-\" + adp_redraft['Pos_Rnk'].astype(str)\n",
    "\n",
    "# select columns and final cleaning\n",
    "adp_redraft = adp_redraft.rename(columns = {'ADP_Rnk': 'ADP_Rank', 'Player': 'Name', 'Position': 'Pos'})\n",
    "\n",
    "adp_redraft = adp_redraft[[\"ADP_Rank\", \"Name\", \"Team\", \"Pos\", \"ADP_Pos_Rnk\"]]"
   ]
  },
  {
   "cell_type": "code",
   "execution_count": 10,
   "metadata": {},
   "outputs": [],
   "source": [
    "# Write csv\n",
    "adp_redraft.to_csv('Sleeper_Redraft_ADP_23_24_Clean.csv', index = False)"
   ]
  },
  {
   "cell_type": "code",
   "execution_count": null,
   "metadata": {},
   "outputs": [],
   "source": []
  },
  {
   "cell_type": "code",
   "execution_count": 15,
   "metadata": {},
   "outputs": [],
   "source": [
    "\n",
    "\n",
    "\n",
    "\n",
    "\n",
    "\n",
    "# get age and rookie info\n",
    "age_rook = all_fnl[[\"Name\", \"Age\", \"Rook_Rnk\"]]\n",
    "\n",
    "# prep\n",
    "age_rook.loc[age_rook['Rook_Rnk'] != '', 'Rook'] = 'True' \n",
    "age_rook = age_rook.replace(np.nan, '', regex=True)\n",
    "age_rook = age_rook[[\"Name\", \"Age\", \"Rook\"]]"
   ]
  }
 ],
 "metadata": {
  "kernelspec": {
   "display_name": "base",
   "language": "python",
   "name": "python3"
  },
  "language_info": {
   "codemirror_mode": {
    "name": "ipython",
    "version": 3
   },
   "file_extension": ".py",
   "mimetype": "text/x-python",
   "name": "python",
   "nbconvert_exporter": "python",
   "pygments_lexer": "ipython3",
   "version": "3.11.4"
  },
  "orig_nbformat": 4
 },
 "nbformat": 4,
 "nbformat_minor": 2
}
