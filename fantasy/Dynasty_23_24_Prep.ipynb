{
 "cells": [
  {
   "cell_type": "markdown",
   "metadata": {},
   "source": [
    "Do all of this with Beautiful Soup?"
   ]
  },
  {
   "cell_type": "code",
   "execution_count": 44,
   "metadata": {},
   "outputs": [],
   "source": [
    "import pandas as pd\n",
    "import numpy as np"
   ]
  },
  {
   "cell_type": "markdown",
   "metadata": {},
   "source": [
    "# Fantasy Footballers UDK Rankings\n",
    "\n",
    "https://www.thefantasyfootballers.com/2023-ultimate-draft-kit/udk-dynasty-startup-rankings/"
   ]
  },
  {
   "cell_type": "code",
   "execution_count": 39,
   "metadata": {},
   "outputs": [],
   "source": [
    "all = pd.read_csv('Dynasty_Ranking_23_24_All.csv')\n",
    "qb = pd.read_csv('Dynasty_Ranking_23_24_QB.csv')\n",
    "rb = pd.read_csv('Dynasty_Ranking_23_24_RB.csv')\n",
    "wr = pd.read_csv('Dynasty_Ranking_23_24_WR.csv')\n",
    "te = pd.read_csv('Dynasty_Ranking_23_24_TE.csv') \n",
    "rook = pd.read_csv('Dynasty_Ranking_23_24_Rookie.csv') "
   ]
  },
  {
   "cell_type": "code",
   "execution_count": 40,
   "metadata": {},
   "outputs": [],
   "source": [
    "# DATA PREP\n",
    "\n",
    "# select columns wanted\n",
    "all = all[[\"Rank\", \"Name\", \"Team\", \"Age\"]]\n",
    "\n",
    "# QB\n",
    "qb = qb[[\"Rank\", \"Name\"]]\n",
    "qb = qb.assign(Pos = 'QB')\n",
    "qb['Rank'] = qb['Rank'].astype(str)\n",
    "qb['Pos_Rnk'] = qb['Pos'] + \"-\" + qb['Rank']\n",
    "\n",
    "# RB\n",
    "rb = rb[[\"Rank\", \"Name\"]]\n",
    "rb = rb.assign(Pos = 'RB')\n",
    "rb['Rank'] = rb['Rank'].astype(str)\n",
    "rb['Pos_Rnk'] = rb['Pos'] + \"-\" + rb['Rank']\n",
    "\n",
    "# WR\n",
    "wr = wr[[\"Rank\", \"Name\"]]\n",
    "wr = wr.assign(Pos = 'WR')\n",
    "wr['Rank'] = wr['Rank'].astype(str)\n",
    "wr['Pos_Rnk'] = wr['Pos'] + \"-\" + wr['Rank']\n",
    "\n",
    "# TE\n",
    "te = te[[\"Rank\", \"Name\"]]\n",
    "te = te.assign(Pos = 'TE')\n",
    "te['Rank'] = te['Rank'].astype(str)\n",
    "te['Pos_Rnk'] = te['Pos'] + \"-\" + te['Rank']\n",
    "\n",
    "# Rookie\n",
    "rook = rook[[\"Rank\", \"Name\"]]\n",
    "rook = rook.rename(columns = {'Rank': 'Rook_Rnk'})\n",
    "rook['Rook_Rnk'] = rook['Rook_Rnk'].astype(str)\n",
    "\n",
    "# Join data\n",
    "comb = pd.concat([qb, rb, wr, te])\n",
    "comb2 = pd.merge(comb, rook, on = 'Name', how = 'left')\n",
    "all_fnl = pd.merge(all, comb2, on = 'Name', how = 'left')\n",
    "\n",
    "# Select cols and final clean\n",
    "all_fnl = all_fnl[[\"Rank_x\", \"Name\", \"Team\", \"Age\", \"Pos\", \"Pos_Rnk\", \"Rook_Rnk\"]]\n",
    "all_fnl = all_fnl.rename(columns = {'Rank_x': 'Rank'})\n",
    "all_fnl = all_fnl.replace(np.nan, '', regex=True)"
   ]
  },
  {
   "cell_type": "code",
   "execution_count": 42,
   "metadata": {},
   "outputs": [],
   "source": [
    "# Write csv\n",
    "all_fnl.to_csv('Dynasty_23_24_Clean.csv', index = False)"
   ]
  },
  {
   "cell_type": "code",
   "execution_count": null,
   "metadata": {},
   "outputs": [],
   "source": [
    "# Sleeper ADP\n",
    "\n",
    "https://www.ftnfantasy.com/nfl/tools/sleeper-fantasy-football-adp"
   ]
  },
  {
   "cell_type": "code",
   "execution_count": 131,
   "metadata": {},
   "outputs": [],
   "source": [
    "# Read in adp data\n",
    "adp = pd.read_csv('Sleeper_ADP_23_24.csv') "
   ]
  },
  {
   "cell_type": "code",
   "execution_count": 132,
   "metadata": {},
   "outputs": [
    {
     "name": "stderr",
     "output_type": "stream",
     "text": [
      "C:\\Users\\crudek\\AppData\\Local\\Temp\\ipykernel_14644\\2283342804.py:27: SettingWithCopyWarning: \n",
      "A value is trying to be set on a copy of a slice from a DataFrame.\n",
      "Try using .loc[row_indexer,col_indexer] = value instead\n",
      "\n",
      "See the caveats in the documentation: https://pandas.pydata.org/pandas-docs/stable/user_guide/indexing.html#returning-a-view-versus-a-copy\n",
      "  age_rook.loc[age_rook['Rook_Rnk'] != '', 'Rook'] = 'True'\n"
     ]
    }
   ],
   "source": [
    "# remove cols\n",
    "adp = adp.drop(columns = ['Redraft SF ADP', 'Dynasty SF ADP', 'IDP ADP'])\n",
    "\n",
    "# Dynasty PPR\n",
    "adp_dyn_ppr = adp[[\"Player\", \"Team\", \"Position\", \"Dynasty PPR ADP\"]].sort_values(\"Dynasty PPR ADP\")\n",
    "\n",
    "# remove nan\n",
    "adp_dyn_ppr = adp_dyn_ppr[adp_dyn_ppr['Dynasty PPR ADP'].notna()]\n",
    "\n",
    "# create dynasty ppr rank\n",
    "adp_dyn_ppr['ADP_Rnk'] = adp_dyn_ppr['Dynasty PPR ADP'].rank(ascending=True).astype(np.int64)\n",
    "\n",
    "# create position rankings\n",
    "adp_dyn_ppr['Pos_Rnk'] = adp_dyn_ppr.groupby('Position')['Dynasty PPR ADP'].rank(ascending=True).astype(np.int64)\n",
    "\n",
    "adp_dyn_ppr['ADP_Pos_Rnk']  = adp_dyn_ppr['Position'] + \"-\" + adp_dyn_ppr['Pos_Rnk'].astype(str)\n",
    "\n",
    "# select columns and final cleaning\n",
    "adp_dyn_ppr = adp_dyn_ppr.rename(columns = {'ADP_Rnk': 'ADP_Rank', 'Player': 'Name', 'Position': 'Pos'})\n",
    "\n",
    "adp_dyn_ppr = adp_dyn_ppr[[\"ADP_Rank\", \"Name\", \"Team\", \"Pos\", \"ADP_Pos_Rnk\"]]\n",
    "\n",
    "# get age and rookie info\n",
    "age_rook = all_fnl[[\"Name\", \"Age\", \"Rook_Rnk\"]]\n",
    "\n",
    "# prep\n",
    "age_rook.loc[age_rook['Rook_Rnk'] != '', 'Rook'] = 'True' \n",
    "age_rook = age_rook.replace(np.nan, '', regex=True)\n",
    "age_rook = age_rook[[\"Name\", \"Age\", \"Rook\"]]"
   ]
  },
  {
   "cell_type": "code",
   "execution_count": 133,
   "metadata": {},
   "outputs": [],
   "source": [
    "# join age and rookie info\n",
    "adp_comb = pd.merge(adp_dyn_ppr, age_rook, on = 'Name', how = 'left')\n",
    "adp_comb = adp_comb.replace(np.nan, '', regex=True)\n",
    "adp_comb['Rook_Rnk'] = adp_comb.groupby('Rook')['ADP_Rank'].rank(ascending=True)\n",
    "\n",
    "# get rookie rank to be able to join back\n",
    "just_rook = adp_comb[(adp_comb.Rook == \"True\")]\n",
    "just_rook = just_rook[[\"Name\", \"Rook_Rnk\"]]\n",
    "\n",
    "# remove a coup[le cols before joining back]\n",
    "adp_comb = adp_comb.drop(columns = ['Rook_Rnk', 'Rook'])\n",
    "\n",
    "# join back rookie\n",
    "adp_rook_comb = pd.merge(adp_comb, just_rook, on = 'Name', how = 'left')\n",
    "adp_rook_comb = adp_rook_comb.replace(np.nan, '', regex=True)\n",
    "\n",
    "# move age column\n",
    "move_age = adp_rook_comb.pop(\"Age\")\n",
    "# insert column with insert(location, column_name, column_value)\n",
    "adp_rook_comb.insert(3, \"Age\", move_age)"
   ]
  },
  {
   "cell_type": "code",
   "execution_count": 134,
   "metadata": {},
   "outputs": [],
   "source": [
    "# Write csv\n",
    "adp_rook_comb.to_csv('Sleeper_PPR_Dyn_ADP_23_24.csv', index = False)"
   ]
  }
 ],
 "metadata": {
  "kernelspec": {
   "display_name": "base",
   "language": "python",
   "name": "python3"
  },
  "language_info": {
   "codemirror_mode": {
    "name": "ipython",
    "version": 3
   },
   "file_extension": ".py",
   "mimetype": "text/x-python",
   "name": "python",
   "nbconvert_exporter": "python",
   "pygments_lexer": "ipython3",
   "version": "3.11.4"
  },
  "orig_nbformat": 4
 },
 "nbformat": 4,
 "nbformat_minor": 2
}
