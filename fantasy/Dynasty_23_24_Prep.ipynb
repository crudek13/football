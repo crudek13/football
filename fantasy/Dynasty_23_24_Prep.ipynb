{
 "cells": [
  {
   "cell_type": "code",
   "execution_count": 35,
   "metadata": {},
   "outputs": [],
   "source": [
    "import pandas as pd\n",
    "import numpy as np"
   ]
  },
  {
   "cell_type": "code",
   "execution_count": 39,
   "metadata": {},
   "outputs": [],
   "source": [
    "all = pd.read_csv('Dynasty_Ranking_23_24_All.csv')\n",
    "qb = pd.read_csv('Dynasty_Ranking_23_24_QB.csv')\n",
    "rb = pd.read_csv('Dynasty_Ranking_23_24_RB.csv')\n",
    "wr = pd.read_csv('Dynasty_Ranking_23_24_WR.csv')\n",
    "te = pd.read_csv('Dynasty_Ranking_23_24_TE.csv') \n",
    "rook = pd.read_csv('Dynasty_Ranking_23_24_Rookie.csv') "
   ]
  },
  {
   "cell_type": "code",
   "execution_count": 40,
   "metadata": {},
   "outputs": [],
   "source": [
    "# DATA PREP\n",
    "\n",
    "# select columns wanted\n",
    "all = all[[\"Rank\", \"Name\", \"Team\", \"Age\"]]\n",
    "\n",
    "# QB\n",
    "qb = qb[[\"Rank\", \"Name\"]]\n",
    "qb = qb.assign(Pos = 'QB')\n",
    "qb['Rank'] = qb['Rank'].astype(str)\n",
    "qb['Pos_Rnk'] = qb['Pos'] + \"-\" + qb['Rank']\n",
    "\n",
    "# RB\n",
    "rb = rb[[\"Rank\", \"Name\"]]\n",
    "rb = rb.assign(Pos = 'RB')\n",
    "rb['Rank'] = rb['Rank'].astype(str)\n",
    "rb['Pos_Rnk'] = rb['Pos'] + \"-\" + rb['Rank']\n",
    "\n",
    "# WR\n",
    "wr = wr[[\"Rank\", \"Name\"]]\n",
    "wr = wr.assign(Pos = 'WR')\n",
    "wr['Rank'] = wr['Rank'].astype(str)\n",
    "wr['Pos_Rnk'] = wr['Pos'] + \"-\" + wr['Rank']\n",
    "\n",
    "# TE\n",
    "te = te[[\"Rank\", \"Name\"]]\n",
    "te = te.assign(Pos = 'TE')\n",
    "te['Rank'] = te['Rank'].astype(str)\n",
    "te['Pos_Rnk'] = te['Pos'] + \"-\" + te['Rank']\n",
    "\n",
    "# Rookie\n",
    "rook = rook[[\"Rank\", \"Name\"]]\n",
    "rook = rook.rename(columns = {'Rank': 'Rook_Rnk'})\n",
    "rook['Rook_Rnk'] = rook['Rook_Rnk'].astype(str)\n",
    "\n",
    "# Join data\n",
    "comb = pd.concat([qb, rb, wr, te])\n",
    "comb2 = pd.merge(comb, rook, on = 'Name', how = 'left')\n",
    "all_fnl = pd.merge(all, comb2, on = 'Name', how = 'left')\n",
    "\n",
    "# Select cols and final clean\n",
    "all_fnl = all_fnl[[\"Rank_x\", \"Name\", \"Team\", \"Age\", \"Pos\", \"Pos_Rnk\", \"Rook_Rnk\"]]\n",
    "all_fnl = all_fnl.rename(columns = {'Rank_x': 'Rank'})\n",
    "all_fnl = all_fnl.replace(np.nan, '', regex=True)"
   ]
  },
  {
   "cell_type": "code",
   "execution_count": 42,
   "metadata": {},
   "outputs": [],
   "source": [
    "# Write csv\n",
    "all_fnl.to_csv('Dynasty_23_24_Clean.csv', index = False)"
   ]
  }
 ],
 "metadata": {
  "kernelspec": {
   "display_name": "base",
   "language": "python",
   "name": "python3"
  },
  "language_info": {
   "codemirror_mode": {
    "name": "ipython",
    "version": 3
   },
   "file_extension": ".py",
   "mimetype": "text/x-python",
   "name": "python",
   "nbconvert_exporter": "python",
   "pygments_lexer": "ipython3",
   "version": "3.11.4"
  },
  "orig_nbformat": 4
 },
 "nbformat": 4,
 "nbformat_minor": 2
}
